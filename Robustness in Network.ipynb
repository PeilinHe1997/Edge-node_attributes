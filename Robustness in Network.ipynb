{
 "cells": [
  {
   "cell_type": "markdown",
   "id": "701cdb5b",
   "metadata": {},
   "source": [
    "### Network robustness:\n",
    "The ability of a network to maintain its general structure properties when it faces failures or attacks."
   ]
  },
  {
   "cell_type": "markdown",
   "id": "3f73b13c",
   "metadata": {},
   "source": [
    "##### Type of attacks : removal of nodes and edges\n",
    "##### Structural properties: connectivity\n",
    "##### Examples: Airport closure, internet router failures, power line failures"
   ]
  },
  {
   "cell_type": "markdown",
   "id": "5fe5223c",
   "metadata": {},
   "source": [
    "### Disconnecting a Graph\n",
    "What is the smallest number of nodes that can be removed from this graph in oder to disconnect it?"
   ]
  },
  {
   "cell_type": "code",
   "execution_count": 2,
   "id": "26350f8a",
   "metadata": {},
   "outputs": [],
   "source": [
    "import networkx as nx"
   ]
  },
  {
   "cell_type": "code",
   "execution_count": 3,
   "id": "36de5279",
   "metadata": {},
   "outputs": [],
   "source": [
    "\n",
    "G = nx.Graph()\n",
    "G.add_edges_from([(\"A\",\"K\"),(\"A\",\"B\"),(\"A\",\"C\"),(\"B\",\"C\"),(\"B\",\"K\"),(\"C\",\"E\"),(\"C\",\"F\"),('D',\"E\"),(\"E\",\"F\"),(\"E\",\"H\"),(\"F\",\"G\")])"
   ]
  },
  {
   "cell_type": "code",
   "execution_count": 5,
   "id": "643dfb2c",
   "metadata": {},
   "outputs": [
    {
     "data": {
      "image/png": "[encoded data removed]",
      "text/plain": [
       "<Figure size 432x288 with 1 Axes>"
      ]
     },
     "metadata": {},
     "output_type": "display_data"
    }
   ],
   "source": [
    "nx.draw_networkx(G)"
   ]
  },
  {
   "cell_type": "code",
   "execution_count": 6,
   "id": "9df9568a",
   "metadata": {},
   "outputs": [
    {
     "data": {
      "text/plain": [
       "1"
      ]
     },
     "execution_count": 6,
     "metadata": {},
     "output_type": "execute_result"
    }
   ],
   "source": [
    "nx.node_connectivity(G)"
   ]
  },
  {
   "cell_type": "markdown",
   "id": "e62fb086",
   "metadata": {},
   "source": [
    "which node?"
   ]
  },
  {
   "cell_type": "code",
   "execution_count": 10,
   "id": "6cc5149d",
   "metadata": {},
   "outputs": [
    {
     "data": {
      "text/plain": [
       "{'E'}"
      ]
     },
     "execution_count": 10,
     "metadata": {},
     "output_type": "execute_result"
    }
   ],
   "source": [
    "nx.minimum_node_cut(G)"
   ]
  },
  {
   "cell_type": "markdown",
   "id": "7f8a29a4",
   "metadata": {},
   "source": [
    "What is the smallest number of edges that can be removed from this graph in oder to disconnect it?"
   ]
  },
  {
   "cell_type": "code",
   "execution_count": 11,
   "id": "3e4a08c4",
   "metadata": {},
   "outputs": [
    {
     "data": {
      "text/plain": [
       "1"
      ]
     },
     "execution_count": 11,
     "metadata": {},
     "output_type": "execute_result"
    }
   ],
   "source": [
    "nx.edge_connectivity(G)"
   ]
  },
  {
   "cell_type": "code",
   "execution_count": 12,
   "id": "210283a3",
   "metadata": {},
   "outputs": [
    {
     "data": {
      "text/plain": [
       "{('F', 'G')}"
      ]
     },
     "execution_count": 12,
     "metadata": {},
     "output_type": "execute_result"
    }
   ],
   "source": [
    "nx.minimum_edge_cut(G)"
   ]
  },
  {
   "cell_type": "markdown",
   "id": "261c5519",
   "metadata": {},
   "source": [
    "### Simple Paths\n",
    "Imagine node A wants to send a messages to node F by passing it along to other nodes in this network.\n",
    "\n",
    "What options does A have to devliver the message?"
   ]
  },
  {
   "cell_type": "code",
   "execution_count": 13,
   "id": "9d16103a",
   "metadata": {},
   "outputs": [
    {
     "data": {
      "text/plain": [
       "[['A', 'B', 'C', 'E', 'F'],\n",
       " ['A', 'B', 'C', 'F'],\n",
       " ['A', 'C', 'E', 'F'],\n",
       " ['A', 'C', 'F'],\n",
       " ['A', 'K', 'B', 'C', 'E', 'F'],\n",
       " ['A', 'K', 'B', 'C', 'F']]"
      ]
     },
     "execution_count": 13,
     "metadata": {},
     "output_type": "execute_result"
    }
   ],
   "source": [
    "sorted(nx.all_simple_paths(G,\"A\",\"F\"))"
   ]
  },
  {
   "cell_type": "markdown",
   "id": "18c55023",
   "metadata": {},
   "source": [
    "##### Node connectivity\n",
    "If we wanted to block the messages from A to F by removing nodes from the network, how many nodes would we need to remove?"
   ]
  },
  {
   "cell_type": "code",
   "execution_count": 14,
   "id": "eade56b5",
   "metadata": {},
   "outputs": [
    {
     "data": {
      "text/plain": [
       "1"
      ]
     },
     "execution_count": 14,
     "metadata": {},
     "output_type": "execute_result"
    }
   ],
   "source": [
    "nx.node_connectivity(G,\"A\",\"F\")"
   ]
  },
  {
   "cell_type": "markdown",
   "id": "0bc602e3",
   "metadata": {},
   "source": [
    "which node?\n"
   ]
  },
  {
   "cell_type": "code",
   "execution_count": 15,
   "id": "ae56f497",
   "metadata": {},
   "outputs": [
    {
     "data": {
      "text/plain": [
       "{'C'}"
      ]
     },
     "execution_count": 15,
     "metadata": {},
     "output_type": "execute_result"
    }
   ],
   "source": [
    "nx.minimum_node_cut(G,\"A\",\"F\")"
   ]
  },
  {
   "cell_type": "markdown",
   "id": "9b675bca",
   "metadata": {},
   "source": [
    "##### Edge connectivity\n",
    "If we wanted to block the messages from A to F by removing edges from the network, how many edges would we need to remove?"
   ]
  },
  {
   "cell_type": "code",
   "execution_count": 16,
   "id": "ef2162e3",
   "metadata": {},
   "outputs": [
    {
     "data": {
      "text/plain": [
       "2"
      ]
     },
     "execution_count": 16,
     "metadata": {},
     "output_type": "execute_result"
    }
   ],
   "source": [
    "nx.edge_connectivity(G,\"A\",\"F\")"
   ]
  },
  {
   "cell_type": "markdown",
   "id": "0b774be7",
   "metadata": {},
   "source": [
    "which edges?"
   ]
  },
  {
   "cell_type": "code",
   "execution_count": 17,
   "id": "c112f89e",
   "metadata": {},
   "outputs": [
    {
     "data": {
      "text/plain": [
       "{('C', 'F'), ('E', 'F')}"
      ]
     },
     "execution_count": 17,
     "metadata": {},
     "output_type": "execute_result"
    }
   ],
   "source": [
    "nx.minimum_edge_cut(G,\"A\",\"F\")"
   ]
  },
  {
   "cell_type": "code",
   "execution_count": null,
   "id": "f1ea6f50",
   "metadata": {},
   "outputs": [],
   "source": []
  }
 ],
 "metadata": {
  "kernelspec": {
   "display_name": "Python 3 (ipykernel)",
   "language": "python",
   "name": "python3"
  },
  "language_info": {
   "codemirror_mode": {
    "name": "ipython",
    "version": 3
   },
   "file_extension": ".py",
   "mimetype": "text/x-python",
   "name": "python",
   "nbconvert_exporter": "python",
   "pygments_lexer": "ipython3",
   "version": "3.9.7"
  }
 },
 "nbformat": 4,
 "nbformat_minor": 5
}
