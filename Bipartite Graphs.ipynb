{
 "cells": [
  {
   "cell_type": "markdown",
   "id": "1971ad13",
   "metadata": {},
   "source": [
    "# Bipartite Graphs"
   ]
  },
  {
   "cell_type": "markdown",
   "id": "a3244422",
   "metadata": {},
   "source": [
    "Definition: A graph whose nodes can be split into two sets L and R and every edge connects an node in L with a node in R.\n",
    "\n",
    "For example, two classes(A and B) hold competitions, and each class selects three people for a total of three matches. At this time, the people in class A are in sets L, and the people in class B are in sets  R. Every edge(competition) connects an node in L with a node in R"
   ]
  },
  {
   "cell_type": "code",
   "execution_count": 8,
   "id": "a78d5126",
   "metadata": {},
   "outputs": [],
   "source": [
    "from networkx.algorithms import bipartite"
   ]
  },
  {
   "cell_type": "code",
   "execution_count": 9,
   "id": "a9d94c24",
   "metadata": {},
   "outputs": [],
   "source": [
    "import networkx as nx"
   ]
  },
  {
   "cell_type": "code",
   "execution_count": 27,
   "id": "fe0bb741",
   "metadata": {},
   "outputs": [],
   "source": [
    "B = nx.Graph()\n",
    "# Add nodes with the node attribute \"bipartite\"\n",
    "B.add_nodes_from([1, 2, 3, 4], bipartite=0)\n",
    "B.add_nodes_from([\"a\", \"b\", \"c\"], bipartite=1)\n",
    "# Add edges only between nodes of opposite node sets\n",
    "B.add_edges_from([(1, \"a\"), (1, \"b\"), (2, \"b\"), (2, \"c\"), (3, \"c\"), (4, \"a\")])"
   ]
  },
  {
   "cell_type": "code",
   "execution_count": 31,
   "id": "714beed8",
   "metadata": {},
   "outputs": [
    {
     "data": {
      "text/plain": [
       "True"
      ]
     },
     "execution_count": 31,
     "metadata": {},
     "output_type": "execute_result"
    }
   ],
   "source": [
    "bipartite.is_bipartite(B)"
   ]
  },
  {
   "cell_type": "code",
   "execution_count": 32,
   "id": "355ac14e",
   "metadata": {},
   "outputs": [
    {
     "data": {
      "text/plain": [
       "False"
      ]
     },
     "execution_count": 32,
     "metadata": {},
     "output_type": "execute_result"
    }
   ],
   "source": [
    "# if we add an edge with ends from the same side/set.\n",
    "# this is not a bipartite graph\n",
    "B.add_edge(\"a\",\"b\")\n",
    "bipartite.is_bipartite(B)"
   ]
  },
  {
   "cell_type": "code",
   "execution_count": 33,
   "id": "43227ca4",
   "metadata": {},
   "outputs": [],
   "source": [
    "# remove the edge\n",
    "B.remove_edge(\"a\",\"b\")"
   ]
  },
  {
   "cell_type": "markdown",
   "id": "b1a6a8a6",
   "metadata": {},
   "source": [
    "#### Check if a set of nodes is a bipartition of a graph"
   ]
  },
  {
   "cell_type": "code",
   "execution_count": 34,
   "id": "a81c273b",
   "metadata": {},
   "outputs": [
    {
     "data": {
      "text/plain": [
       "True"
      ]
     },
     "execution_count": 34,
     "metadata": {},
     "output_type": "execute_result"
    }
   ],
   "source": [
    "X = set([1,2,3,4])\n",
    "bipartite.is_bipartite_node_set(B,X)"
   ]
  },
  {
   "cell_type": "code",
   "execution_count": 35,
   "id": "9447b4f6",
   "metadata": {},
   "outputs": [
    {
     "data": {
      "text/plain": [
       "True"
      ]
     },
     "execution_count": 35,
     "metadata": {},
     "output_type": "execute_result"
    }
   ],
   "source": [
    "X = set([\"a\", \"b\", \"c\"])\n",
    "bipartite.is_bipartite_node_set(B,X)"
   ]
  },
  {
   "cell_type": "code",
   "execution_count": 36,
   "id": "4296d508",
   "metadata": {},
   "outputs": [
    {
     "data": {
      "text/plain": [
       "False"
      ]
     },
     "execution_count": 36,
     "metadata": {},
     "output_type": "execute_result"
    }
   ],
   "source": [
    "X = set([\"a\", \"b\", \"c\",4])\n",
    "bipartite.is_bipartite_node_set(B,X)"
   ]
  },
  {
   "cell_type": "markdown",
   "id": "883b7604",
   "metadata": {},
   "source": [
    "#### Get each set of nodes"
   ]
  },
  {
   "cell_type": "code",
   "execution_count": 37,
   "id": "146a1003",
   "metadata": {},
   "outputs": [
    {
     "data": {
      "text/plain": [
       "({1, 2, 3, 4}, {'a', 'b', 'c'})"
      ]
     },
     "execution_count": 37,
     "metadata": {},
     "output_type": "execute_result"
    }
   ],
   "source": [
    "bipartite.sets(B)"
   ]
  },
  {
   "cell_type": "markdown",
   "id": "f4774106",
   "metadata": {},
   "source": [
    "## Projected Graphs"
   ]
  },
  {
   "cell_type": "markdown",
   "id": "52301b63",
   "metadata": {},
   "source": [
    "### L-Bipartite graph projection\n",
    "Network of nodes in group L, where a pair of nodes is connected if they have a common neighbor in R in the bipartite graph.\n",
    "\n",
    "L: basketball teams    \n",
    "R: Fans\n",
    "\n",
    "If 2 basketball teams have one fan in common, they are connected."
   ]
  },
  {
   "cell_type": "code",
   "execution_count": 87,
   "id": "74424d6d",
   "metadata": {},
   "outputs": [],
   "source": [
    "B1 = nx.Graph()\n",
    "B.add_nodes_from([1, 2, 3], bipartite=0)\n",
    "B.add_nodes_from([\"a\", \"b\", \"c\",\"d\"], bipartite=1)\n",
    "B1.add_edges_from([(\"a\",1),(\"b\",1),(\"c\",1),(\"d\",1),(\"b\",2),(\"c\",2),(\"d\",2),(\"d\",3)])"
   ]
  },
  {
   "cell_type": "code",
   "execution_count": 88,
   "id": "d28808c8",
   "metadata": {},
   "outputs": [],
   "source": [
    "\n",
    "# group nodes by column\n",
    "left_nodes = [1, 2, 3]\n",
    "right_nodes = [\"a\", \"b\", \"c\",\"d\"]\n",
    "\n",
    "# set the position according to column (x-coord)\n",
    "pos = {n: (0, i) for i, n in enumerate(left_nodes)}\n",
    "pos.update({n: (1, i + 0.5) for i, n in enumerate(right_nodes)})\n"
   ]
  },
  {
   "cell_type": "code",
   "execution_count": 103,
   "id": "2b0c4178",
   "metadata": {},
   "outputs": [],
   "source": [
    "labels = {}\n",
    "for v in B1.nodes():\n",
    "    labels[v] = v"
   ]
  },
  {
   "cell_type": "code",
   "execution_count": 107,
   "id": "16891bba",
   "metadata": {},
   "outputs": [
    {
     "data": {
      "text/plain": [
       "{'a': Text(1, 0.5, 'a'),\n",
       " 1: Text(0, 0, '1'),\n",
       " 'b': Text(1, 1.5, 'b'),\n",
       " 'c': Text(1, 2.5, 'c'),\n",
       " 'd': Text(1, 3.5, 'd'),\n",
       " 2: Text(0, 1, '2'),\n",
       " 3: Text(0, 2, '3')}"
      ]
     },
     "execution_count": 107,
     "metadata": {},
     "output_type": "execute_result"
    },
    {
     "data": {
      "image/png": "[encoded data removed]",
      "text/plain": [
       "<Figure size 432x288 with 1 Axes>"
      ]
     },
     "metadata": {},
     "output_type": "display_data"
    }
   ],
   "source": [
    "nx.draw_networkx_nodes(B1, pos,nodelist=[1,2,3], node_color=\"red\", label=True)\n",
    "nx.draw_networkx_nodes(B1, pos,nodelist=[\"a\", \"b\", \"c\",\"d\"], node_color=\"blue\", label=True)\n",
    "nx.draw_networkx_edges(B1, pos, width=1.0, alpha=0.5)\n",
    "nx.draw_networkx_labels(B1, pos, labels, font_size=18, font_color=\"whitesmoke\")"
   ]
  },
  {
   "cell_type": "code",
   "execution_count": 106,
   "id": "0941d5bc",
   "metadata": {},
   "outputs": [],
   "source": [
    "X = set([\"a\", \"b\", \"c\",\"d\"])\n",
    "P = bipartite.projected_graph(B1,X)"
   ]
  },
  {
   "cell_type": "code",
   "execution_count": 108,
   "id": "69ec30eb",
   "metadata": {},
   "outputs": [],
   "source": [
    "options = {\n",
    "    \"font_size\": 25,\n",
    "    \"node_size\": 1000,\n",
    "    \"node_color\": \"white\",\n",
    "    \"edgecolors\": \"black\",\n",
    "    \"linewidths\": 5,\n",
    "    \"width\": 5,\n",
    "}"
   ]
  },
  {
   "cell_type": "code",
   "execution_count": 110,
   "id": "cc6c7ecd",
   "metadata": {},
   "outputs": [
    {
     "data": {
      "image/png": "[encoded data removed]",
      "text/plain": [
       "<Figure size 432x288 with 1 Axes>"
      ]
     },
     "metadata": {},
     "output_type": "display_data"
    }
   ],
   "source": [
    "nx.draw_networkx(P, pos, **options)"
   ]
  },
  {
   "cell_type": "markdown",
   "id": "8d2b3d8e",
   "metadata": {},
   "source": [
    "### L-Bipartite weighted graph projection\n",
    "We need weights on these edges, because two team could have more than one same fan."
   ]
  },
  {
   "cell_type": "code",
   "execution_count": 111,
   "id": "bf094340",
   "metadata": {},
   "outputs": [],
   "source": [
    "P = bipartite.weighted_projected_graph(B1,X)"
   ]
  },
  {
   "cell_type": "code",
   "execution_count": 112,
   "id": "a83a5eb7",
   "metadata": {},
   "outputs": [
    {
     "data": {
      "text/plain": [
       "EdgeDataView([('c', 'd', {'weight': 2}), ('c', 'a', {'weight': 1}), ('c', 'b', {'weight': 2}), ('d', 'a', {'weight': 1}), ('d', 'b', {'weight': 2}), ('a', 'b', {'weight': 1})])"
      ]
     },
     "execution_count": 112,
     "metadata": {},
     "output_type": "execute_result"
    }
   ],
   "source": [
    "P.edges(data = True)"
   ]
  },
  {
   "cell_type": "code",
   "execution_count": null,
   "id": "89e21690",
   "metadata": {},
   "outputs": [],
   "source": []
  }
 ],
 "metadata": {
  "kernelspec": {
   "display_name": "Python 3 (ipykernel)",
   "language": "python",
   "name": "python3"
  },
  "language_info": {
   "codemirror_mode": {
    "name": "ipython",
    "version": 3
   },
   "file_extension": ".py",
   "mimetype": "text/x-python",
   "name": "python",
   "nbconvert_exporter": "python",
   "pygments_lexer": "ipython3",
   "version": "3.9.7"
  }
 },
 "nbformat": 4,
 "nbformat_minor": 5
}
