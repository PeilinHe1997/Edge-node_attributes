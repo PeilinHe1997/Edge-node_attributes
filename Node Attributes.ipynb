{
 "cells": [
  {
   "cell_type": "code",
   "execution_count": 1,
   "id": "6cc7d9ee",
   "metadata": {},
   "outputs": [],
   "source": [
    "import networkx as nx\n",
    "\n",
    "G = nx.Graph()\n",
    "G.add_edge(\"A\",\"B\",weight = 6, relation = \"family\")\n",
    "G.add_edge(\"B\",\"C\",weight = 13, relation = \"friend\")\n"
   ]
  },
  {
   "cell_type": "code",
   "execution_count": 2,
   "id": "aa4eb5f9",
   "metadata": {},
   "outputs": [
    {
     "data": {
      "text/plain": [
       "NodeDataView({'A': {}, 'B': {}, 'C': {}})"
      ]
     },
     "execution_count": 2,
     "metadata": {},
     "output_type": "execute_result"
    }
   ],
   "source": [
    "G.nodes.data()"
   ]
  },
  {
   "cell_type": "code",
   "execution_count": 8,
   "id": "f84703b7",
   "metadata": {},
   "outputs": [],
   "source": [
    "G.add_node(\"A\",role = \"trader\")\n",
    "G.add_node(\"B\",role = \"trader\")\n",
    "G.add_node(\"C\",role = \"manager\")"
   ]
  },
  {
   "cell_type": "code",
   "execution_count": 9,
   "id": "a84ffd13",
   "metadata": {},
   "outputs": [
    {
     "data": {
      "text/plain": [
       "NodeDataView({'A': {'role': 'trader'}, 'B': {'role': 'trader'}, 'C': {'role': 'manager'}})"
      ]
     },
     "execution_count": 9,
     "metadata": {},
     "output_type": "execute_result"
    }
   ],
   "source": [
    "G.nodes.data()# or we can use: G.nodes(data = True)"
   ]
  },
  {
   "cell_type": "markdown",
   "id": "86595896",
   "metadata": {},
   "source": [
    "#### Attributes of a specific node"
   ]
  },
  {
   "cell_type": "code",
   "execution_count": 7,
   "id": "0ce1f9c2",
   "metadata": {},
   "outputs": [
    {
     "data": {
      "text/plain": [
       "{'role': 'trader'}"
      ]
     },
     "execution_count": 7,
     "metadata": {},
     "output_type": "execute_result"
    }
   ],
   "source": [
    "G.nodes()[\"A\"]"
   ]
  },
  {
   "cell_type": "code",
   "execution_count": 10,
   "id": "4940b7bb",
   "metadata": {},
   "outputs": [
    {
     "data": {
      "text/plain": [
       "'trader'"
      ]
     },
     "execution_count": 10,
     "metadata": {},
     "output_type": "execute_result"
    }
   ],
   "source": [
    "G.nodes()[\"A\"][\"role\"]"
   ]
  },
  {
   "cell_type": "code",
   "execution_count": null,
   "id": "02a68e85",
   "metadata": {},
   "outputs": [],
   "source": []
  }
 ],
 "metadata": {
  "kernelspec": {
   "display_name": "Python 3 (ipykernel)",
   "language": "python",
   "name": "python3"
  },
  "language_info": {
   "codemirror_mode": {
    "name": "ipython",
    "version": 3
   },
   "file_extension": ".py",
   "mimetype": "text/x-python",
   "name": "python",
   "nbconvert_exporter": "python",
   "pygments_lexer": "ipython3",
   "version": "3.9.7"
  }
 },
 "nbformat": 4,
 "nbformat_minor": 5
}
