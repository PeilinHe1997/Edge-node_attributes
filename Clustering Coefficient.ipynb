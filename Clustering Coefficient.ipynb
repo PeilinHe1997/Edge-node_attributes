{
 "cells": [
  {
   "cell_type": "markdown",
   "id": "8516ce7f",
   "metadata": {},
   "source": [
    "### Local Clustering Coefficient\n",
    "\n",
    "Fraction of pairs of the node's friends that are friends with each other."
   ]
  },
  {
   "cell_type": "markdown",
   "id": "b7d264f9",
   "metadata": {},
   "source": [
    "Compute the local clustering coefficient of noce C:\n",
    "$$\n",
    "pairs\\quad of\\quad C's\\quad friends\\quad who\\quad are\\quad friends\\quad \\over pairs\\quad of\\quad C's\\quad friends\\quad\n",
    "$$"
   ]
  },
  {
   "cell_type": "code",
   "execution_count": 2,
   "id": "1a87660a",
   "metadata": {},
   "outputs": [],
   "source": [
    "import networkx as nx"
   ]
  },
  {
   "cell_type": "code",
   "execution_count": 3,
   "id": "d26f4fa6",
   "metadata": {},
   "outputs": [],
   "source": [
    "G = nx.Graph()\n",
    "G.add_edges_from([(\"A\",\"K\"),(\"A\",\"B\"),(\"A\",\"C\"),(\"B\",\"C\"),(\"B\",\"K\"),(\"C\",\"E\"),(\"C\",\"F\"),('D',\"E\"),(\"E\",\"F\"),(\"E\",\"H\"),(\"F\",\"G\"),(\"I\",\"J\")])"
   ]
  },
  {
   "cell_type": "code",
   "execution_count": 4,
   "id": "5ced8883",
   "metadata": {},
   "outputs": [
    {
     "data": {
      "image/png": "[encoded data removed]",
      "text/plain": [
       "<Figure size 432x288 with 1 Axes>"
      ]
     },
     "metadata": {},
     "output_type": "display_data"
    }
   ],
   "source": [
    "nx.draw_networkx(G)"
   ]
  },
  {
   "cell_type": "code",
   "execution_count": 5,
   "id": "2d84f392",
   "metadata": {},
   "outputs": [
    {
     "data": {
      "text/plain": [
       "0.3333333333333333"
      ]
     },
     "execution_count": 5,
     "metadata": {},
     "output_type": "execute_result"
    }
   ],
   "source": [
    "# compute local clustering coefficient\n",
    "nx.clustering(G,\"F\")"
   ]
  },
  {
   "cell_type": "code",
   "execution_count": 6,
   "id": "e8691bcf",
   "metadata": {},
   "outputs": [
    {
     "data": {
      "text/plain": [
       "0.3333333333333333"
      ]
     },
     "execution_count": 6,
     "metadata": {},
     "output_type": "execute_result"
    }
   ],
   "source": [
    "nx.clustering(G,\"C\")"
   ]
  },
  {
   "cell_type": "markdown",
   "id": "20b20ba2",
   "metadata": {},
   "source": [
    "C’s friends d_c=4 \n",
    "\n",
    "Pair of C’s friends = d_c (d_c-1)/2 = 6\n",
    "\n",
    "Pair of C’s friends who are friends = 2\n",
    "\n",
    "Local Clustering Coefficient = 2/6 = 1/3\n"
   ]
  },
  {
   "cell_type": "markdown",
   "id": "c27c4a8e",
   "metadata": {},
   "source": [
    "### Global Clustering Coefficient"
   ]
  },
  {
   "cell_type": "markdown",
   "id": "b6e2f544",
   "metadata": {},
   "source": [
    "Measuring clustering on the whole network:\n",
    "Percentage of “open triads” that are triangles in a network.\n",
    "\n",
    "#### Transitivity\n",
    "Ratio of number of triangles and number of \"open triads\" in a network."
   ]
  },
  {
   "cell_type": "code",
   "execution_count": 7,
   "id": "74206397",
   "metadata": {},
   "outputs": [
    {
     "data": {
      "text/plain": [
       "0.4090909090909091"
      ]
     },
     "execution_count": 7,
     "metadata": {},
     "output_type": "execute_result"
    }
   ],
   "source": [
    "nx.transitivity(G)"
   ]
  },
  {
   "cell_type": "markdown",
   "id": "6fcbff58",
   "metadata": {},
   "source": [
    "#### Average clustering cefficient"
   ]
  },
  {
   "cell_type": "code",
   "execution_count": 8,
   "id": "308baa1a",
   "metadata": {},
   "outputs": [
    {
     "data": {
      "text/plain": [
       "0.28787878787878785"
      ]
     },
     "execution_count": 8,
     "metadata": {},
     "output_type": "execute_result"
    }
   ],
   "source": [
    "nx.average_clustering(G)"
   ]
  },
  {
   "cell_type": "markdown",
   "id": "3ebc9096",
   "metadata": {},
   "source": [
    "Transitivity vs. Average Clustering Coefficients:\n",
    "\n",
    "Both measure the tendency for edges to form triangles.\n",
    "\n",
    "Transitivity weights nodes with large degree higher.\n"
   ]
  },
  {
   "cell_type": "markdown",
   "id": "03474b44",
   "metadata": {},
   "source": [
    "### Summary\n",
    "\n",
    "Clustering coefficeint measures the degree to which nodes in a network tend to cluster or form traingels."
   ]
  },
  {
   "cell_type": "code",
   "execution_count": null,
   "id": "d4050cbf",
   "metadata": {},
   "outputs": [],
   "source": []
  }
 ],
 "metadata": {
  "kernelspec": {
   "display_name": "Python 3 (ipykernel)",
   "language": "python",
   "name": "python3"
  },
  "language_info": {
   "codemirror_mode": {
    "name": "ipython",
    "version": 3
   },
   "file_extension": ".py",
   "mimetype": "text/x-python",
   "name": "python",
   "nbconvert_exporter": "python",
   "pygments_lexer": "ipython3",
   "version": "3.9.7"
  }
 },
 "nbformat": 4,
 "nbformat_minor": 5
}
