{
 "cells": [
  {
   "cell_type": "markdown",
   "id": "3e0e2e72",
   "metadata": {},
   "source": [
    "# Set and change edge arrtibutes"
   ]
  },
  {
   "cell_type": "code",
   "execution_count": 7,
   "id": "83c6ebdd",
   "metadata": {},
   "outputs": [],
   "source": [
    "import networkx as nx"
   ]
  },
  {
   "cell_type": "markdown",
   "id": "69c16d51",
   "metadata": {},
   "source": [
    "### Method 1: setting attributes when adding the edge"
   ]
  },
  {
   "cell_type": "code",
   "execution_count": 8,
   "id": "9ed15753",
   "metadata": {},
   "outputs": [],
   "source": [
    "G = nx.Graph()\n",
    "G.add_edge(\"A\",\"B\",weight = 6, relation = \"family\")\n",
    "G.add_edge(\"B\",\"C\",weight = 13, relation = \"friend\")\n"
   ]
  },
  {
   "cell_type": "code",
   "execution_count": 9,
   "id": "b7ab4e30",
   "metadata": {},
   "outputs": [
    {
     "data": {
      "text/plain": [
       "EdgeView([('A', 'B'), ('B', 'C')])"
      ]
     },
     "execution_count": 9,
     "metadata": {},
     "output_type": "execute_result"
    }
   ],
   "source": [
    "# list of all edges\n",
    "G.edges()"
   ]
  },
  {
   "cell_type": "code",
   "execution_count": 4,
   "id": "73f32773",
   "metadata": {},
   "outputs": [
    {
     "data": {
      "text/plain": [
       "EdgeDataView([('A', 'B', {'weight': 6, 'relation': 'family'}), ('B', 'C', {'weight': 13, 'relation': 'friend'})])"
      ]
     },
     "execution_count": 4,
     "metadata": {},
     "output_type": "execute_result"
    }
   ],
   "source": [
    "# list all edges with attributes\n",
    "G.edges(data = True)"
   ]
  },
  {
   "cell_type": "code",
   "execution_count": 5,
   "id": "83894ba3",
   "metadata": {},
   "outputs": [
    {
     "data": {
      "text/plain": [
       "EdgeDataView([('A', 'B', 'family'), ('B', 'C', 'friend')])"
      ]
     },
     "execution_count": 5,
     "metadata": {},
     "output_type": "execute_result"
    }
   ],
   "source": [
    "# list all edges with attributes \"relation\"\n",
    "G.edges(data = \"relation\")"
   ]
  },
  {
   "cell_type": "markdown",
   "id": "3c78247d",
   "metadata": {},
   "source": [
    "#### Accessing attributes of a specific edge from these nodes"
   ]
  },
  {
   "cell_type": "code",
   "execution_count": 24,
   "id": "1ba6df9b",
   "metadata": {},
   "outputs": [
    {
     "data": {
      "text/plain": [
       "EdgeDataView([('A', 'B', {'weight': 6, 'relation': 'family'})])"
      ]
     },
     "execution_count": 24,
     "metadata": {},
     "output_type": "execute_result"
    }
   ],
   "source": [
    "G.edges(\"A\",data = True)"
   ]
  },
  {
   "cell_type": "code",
   "execution_count": 31,
   "id": "5915809d",
   "metadata": {
    "scrolled": true
   },
   "outputs": [
    {
     "data": {
      "text/plain": [
       "EdgeDataView([('A', 'B', 6), ('B', 'C', 13)])"
      ]
     },
     "execution_count": 31,
     "metadata": {},
     "output_type": "execute_result"
    }
   ],
   "source": [
    "G.edges([\"A\",\"B\"],data = \"weight\")"
   ]
  },
  {
   "cell_type": "markdown",
   "id": "a69a9d42",
   "metadata": {},
   "source": [
    "### Method 2: Setting attributes for existing edges"
   ]
  },
  {
   "cell_type": "code",
   "execution_count": 51,
   "id": "698a3441",
   "metadata": {},
   "outputs": [
    {
     "data": {
      "text/plain": [
       "[('A', 'B'), ('B', 'C')]"
      ]
     },
     "execution_count": 51,
     "metadata": {},
     "output_type": "execute_result"
    }
   ],
   "source": [
    "list(G.edges())"
   ]
  },
  {
   "cell_type": "code",
   "execution_count": 67,
   "id": "9e744afb",
   "metadata": {},
   "outputs": [],
   "source": [
    "attr = {}\n",
    "for i in range(0,len(G.edges())):\n",
    "    attr[list(G.edges())[i]] = \"red\""
   ]
  },
  {
   "cell_type": "code",
   "execution_count": 68,
   "id": "61f2161d",
   "metadata": {},
   "outputs": [
    {
     "data": {
      "text/plain": [
       "{('A', 'B'): 'red', ('B', 'C'): 'red'}"
      ]
     },
     "execution_count": 68,
     "metadata": {},
     "output_type": "execute_result"
    }
   ],
   "source": [
    "attr"
   ]
  },
  {
   "cell_type": "code",
   "execution_count": 69,
   "id": "f1f971f7",
   "metadata": {},
   "outputs": [],
   "source": [
    "#nx.set_edge_attributes(G, values, name=None)\n",
    "# G: graph\n",
    "# values: a dict\n",
    "# name: the name of the attribute\n",
    "nx.set_edge_attributes(G, attr,\"color\")"
   ]
  },
  {
   "cell_type": "code",
   "execution_count": 70,
   "id": "5ac9f7c7",
   "metadata": {},
   "outputs": [
    {
     "data": {
      "text/plain": [
       "EdgeDataView([('A', 'B', {'weight': 6, 'relation': 'family', 'color': 'red'}), ('B', 'C', {'weight': 13, 'relation': 'friend', 'color': 'red'})])"
      ]
     },
     "execution_count": 70,
     "metadata": {},
     "output_type": "execute_result"
    }
   ],
   "source": [
    "G.edges(data = True)"
   ]
  },
  {
   "cell_type": "code",
   "execution_count": null,
   "id": "406892ae",
   "metadata": {},
   "outputs": [],
   "source": []
  }
 ],
 "metadata": {
  "kernelspec": {
   "display_name": "Python 3 (ipykernel)",
   "language": "python",
   "name": "python3"
  },
  "language_info": {
   "codemirror_mode": {
    "name": "ipython",
    "version": 3
   },
   "file_extension": ".py",
   "mimetype": "text/x-python",
   "name": "python",
   "nbconvert_exporter": "python",
   "pygments_lexer": "ipython3",
   "version": "3.9.7"
  }
 },
 "nbformat": 4,
 "nbformat_minor": 5
}
