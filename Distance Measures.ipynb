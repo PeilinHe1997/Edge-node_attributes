{
 "cells": [
  {
   "cell_type": "markdown",
   "id": "88ffd190",
   "metadata": {},
   "source": [
    "## Path\n",
    "A sequence of nodes connected by an edge."
   ]
  },
  {
   "cell_type": "code",
   "execution_count": 1,
   "id": "03200379",
   "metadata": {},
   "outputs": [],
   "source": [
    "import networkx as nx\n",
    "G = nx.Graph()\n",
    "G.add_edges_from([(\"A\",\"K\"),(\"A\",\"B\"),(\"A\",\"C\"),(\"B\",\"C\"),(\"B\",\"K\"),(\"C\",\"E\"),(\"C\",\"F\"),('D',\"E\"),(\"E\",\"F\"),(\"E\",\"H\"),(\"F\",\"G\")])"
   ]
  },
  {
   "cell_type": "code",
   "execution_count": 3,
   "id": "45bd5cc1",
   "metadata": {},
   "outputs": [
    {
     "data": {
      "image/png": "[encoded data removed]",
      "text/plain": [
       "<Figure size 432x288 with 1 Axes>"
      ]
     },
     "metadata": {},
     "output_type": "display_data"
    }
   ],
   "source": [
    "nx.draw_networkx(G)"
   ]
  },
  {
   "cell_type": "markdown",
   "id": "b3ff68ef",
   "metadata": {},
   "source": [
    "How far is node A from H?\n",
    "\n",
    "path1: A-C-E-H (3hops)\n",
    "\n",
    "path2: A-B-C-E-H (4hops)\n",
    "\n",
    "......\n",
    "\n",
    "path length: number of steps it contains from beginning to end. Path1 has length 3 and Path2 has length 4.\n"
   ]
  },
  {
   "cell_type": "markdown",
   "id": "1e7d7bc8",
   "metadata": {},
   "source": [
    "## Distance betwee two nodes\n",
    "\n",
    "The length of the shortest path between them."
   ]
  },
  {
   "cell_type": "code",
   "execution_count": 4,
   "id": "e4e70741",
   "metadata": {},
   "outputs": [
    {
     "data": {
      "text/plain": [
       "['A', 'C', 'E', 'H']"
      ]
     },
     "execution_count": 4,
     "metadata": {},
     "output_type": "execute_result"
    }
   ],
   "source": [
    "nx.shortest_path(G,\"A\",\"H\")"
   ]
  },
  {
   "cell_type": "code",
   "execution_count": 5,
   "id": "a22fd7b2",
   "metadata": {},
   "outputs": [
    {
     "data": {
      "text/plain": [
       "3"
      ]
     },
     "execution_count": 5,
     "metadata": {},
     "output_type": "execute_result"
    }
   ],
   "source": [
    "nx.shortest_path_length(G,\"A\",\"H\")"
   ]
  },
  {
   "cell_type": "markdown",
   "id": "f3501988",
   "metadata": {},
   "source": [
    "## Finding the distance from node A to every other node."
   ]
  },
  {
   "cell_type": "markdown",
   "id": "e160fa7b",
   "metadata": {},
   "source": [
    "### Breadth-first search:\n",
    "a systematic and efficient procedure for computing distances from a node to all other nodes in a large network by \"discovering\" nodes in layers."
   ]
  },
  {
   "cell_type": "code",
   "execution_count": 6,
   "id": "dfa4a0d1",
   "metadata": {},
   "outputs": [],
   "source": [
    "T = nx.bfs_tree(G,\"A\")# a tree of nodes that you discover"
   ]
  },
  {
   "cell_type": "code",
   "execution_count": 7,
   "id": "d0352168",
   "metadata": {},
   "outputs": [
    {
     "data": {
      "text/plain": [
       "OutEdgeView([('A', 'K'), ('A', 'B'), ('A', 'C'), ('C', 'E'), ('C', 'F'), ('E', 'D'), ('E', 'H'), ('F', 'G')])"
      ]
     },
     "execution_count": 7,
     "metadata": {},
     "output_type": "execute_result"
    }
   ],
   "source": [
    "T.edges()"
   ]
  },
  {
   "cell_type": "code",
   "execution_count": 8,
   "id": "535dc487",
   "metadata": {},
   "outputs": [
    {
     "data": {
      "text/plain": [
       "{'A': 0, 'C': 1, 'K': 1, 'B': 1, 'F': 2, 'E': 2, 'H': 3, 'G': 3, 'D': 3}"
      ]
     },
     "execution_count": 8,
     "metadata": {},
     "output_type": "execute_result"
    }
   ],
   "source": [
    "nx.shortest_path_length(G,\"A\")"
   ]
  },
  {
   "cell_type": "markdown",
   "id": "842173a5",
   "metadata": {},
   "source": [
    "## Distance Measures\n",
    "How to charaterize the distance between all pairs of nodes in a graph?"
   ]
  },
  {
   "cell_type": "markdown",
   "id": "a336e83a",
   "metadata": {},
   "source": [
    "##### 1 Average Distance:\n"
   ]
  },
  {
   "cell_type": "code",
   "execution_count": 13,
   "id": "b3982eef",
   "metadata": {},
   "outputs": [
    {
     "data": {
      "text/plain": [
       "2.138888888888889"
      ]
     },
     "execution_count": 13,
     "metadata": {},
     "output_type": "execute_result"
    }
   ],
   "source": [
    "nx.average_shortest_path_length(G)"
   ]
  },
  {
   "cell_type": "markdown",
   "id": "858e1f02",
   "metadata": {},
   "source": [
    "##### 2 Diameter: maximum distance between any pair of nodes"
   ]
  },
  {
   "cell_type": "code",
   "execution_count": 14,
   "id": "8564d155",
   "metadata": {},
   "outputs": [
    {
     "data": {
      "text/plain": [
       "4"
      ]
     },
     "execution_count": 14,
     "metadata": {},
     "output_type": "execute_result"
    }
   ],
   "source": [
    "nx.diameter(G)"
   ]
  },
  {
   "cell_type": "markdown",
   "id": "b4b0c3e0",
   "metadata": {},
   "source": [
    "##### 3 Eccentricity: the largest distance between node n and all other nodes\n"
   ]
  },
  {
   "cell_type": "code",
   "execution_count": 12,
   "id": "d194d0df",
   "metadata": {},
   "outputs": [
    {
     "data": {
      "text/plain": [
       "{'A': 3, 'K': 4, 'B': 3, 'C': 2, 'E': 3, 'F': 3, 'D': 4, 'H': 4, 'G': 4}"
      ]
     },
     "execution_count": 12,
     "metadata": {},
     "output_type": "execute_result"
    }
   ],
   "source": [
    "nx.eccentricity(G)"
   ]
  },
  {
   "cell_type": "markdown",
   "id": "f43dfe94",
   "metadata": {},
   "source": [
    "##### 4 Radius: the minimum eccentrity"
   ]
  },
  {
   "cell_type": "code",
   "execution_count": 15,
   "id": "5961c914",
   "metadata": {},
   "outputs": [
    {
     "data": {
      "text/plain": [
       "2"
      ]
     },
     "execution_count": 15,
     "metadata": {},
     "output_type": "execute_result"
    }
   ],
   "source": [
    "nx.radius(G)"
   ]
  },
  {
   "cell_type": "markdown",
   "id": "dfb346f9",
   "metadata": {},
   "source": [
    "##### 5 Periphery: the set of nodes that have eccentrity equal to the diameter"
   ]
  },
  {
   "cell_type": "code",
   "execution_count": 16,
   "id": "fd1b7a33",
   "metadata": {},
   "outputs": [
    {
     "data": {
      "text/plain": [
       "['K', 'D', 'H', 'G']"
      ]
     },
     "execution_count": 16,
     "metadata": {},
     "output_type": "execute_result"
    }
   ],
   "source": [
    "nx.periphery(G)"
   ]
  },
  {
   "cell_type": "markdown",
   "id": "ce6fb4f4",
   "metadata": {},
   "source": [
    "##### 6 Center: the set of nodes that have eccentrity equal to the radius"
   ]
  },
  {
   "cell_type": "code",
   "execution_count": 18,
   "id": "257c5eed",
   "metadata": {},
   "outputs": [
    {
     "data": {
      "text/plain": [
       "['C']"
      ]
     },
     "execution_count": 18,
     "metadata": {},
     "output_type": "execute_result"
    }
   ],
   "source": [
    "nx.center(G)"
   ]
  },
  {
   "cell_type": "markdown",
   "id": "9fb238fb",
   "metadata": {},
   "source": [
    "## Karate Clud Network"
   ]
  },
  {
   "cell_type": "code",
   "execution_count": 22,
   "id": "00ac2983",
   "metadata": {},
   "outputs": [
    {
     "data": {
      "image/png": "[encoded data removed]",
      "text/plain": [
       "<Figure size 432x288 with 1 Axes>"
      ]
     },
     "metadata": {},
     "output_type": "display_data"
    }
   ],
   "source": [
    "G1 = nx.karate_club_graph()\n",
    "G1 = nx.convert_node_labels_to_integers(G1,first_label = 1)\n",
    "nx.draw_networkx(G1)"
   ]
  },
  {
   "cell_type": "code",
   "execution_count": 24,
   "id": "da8f47b3",
   "metadata": {},
   "outputs": [
    {
     "data": {
      "text/plain": [
       "2.408199643493761"
      ]
     },
     "execution_count": 24,
     "metadata": {},
     "output_type": "execute_result"
    }
   ],
   "source": [
    "nx.average_shortest_path_length(G1)"
   ]
  },
  {
   "cell_type": "code",
   "execution_count": 25,
   "id": "991f9aae",
   "metadata": {},
   "outputs": [
    {
     "data": {
      "text/plain": [
       "3"
      ]
     },
     "execution_count": 25,
     "metadata": {},
     "output_type": "execute_result"
    }
   ],
   "source": [
    "nx.radius(G1)"
   ]
  },
  {
   "cell_type": "code",
   "execution_count": 26,
   "id": "2e1fee61",
   "metadata": {},
   "outputs": [
    {
     "data": {
      "text/plain": [
       "5"
      ]
     },
     "execution_count": 26,
     "metadata": {},
     "output_type": "execute_result"
    }
   ],
   "source": [
    "nx.diameter(G1)"
   ]
  },
  {
   "cell_type": "code",
   "execution_count": 27,
   "id": "d5ded208",
   "metadata": {},
   "outputs": [
    {
     "data": {
      "text/plain": [
       "[1, 2, 3, 4, 9, 14, 20, 32]"
      ]
     },
     "execution_count": 27,
     "metadata": {},
     "output_type": "execute_result"
    }
   ],
   "source": [
    "nx.center(G1)"
   ]
  },
  {
   "cell_type": "code",
   "execution_count": 28,
   "id": "2cf865c4",
   "metadata": {},
   "outputs": [
    {
     "data": {
      "text/plain": [
       "[15, 16, 17, 19, 21, 23, 24, 27, 30]"
      ]
     },
     "execution_count": 28,
     "metadata": {},
     "output_type": "execute_result"
    }
   ],
   "source": [
    "nx.periphery(G1) # 边缘"
   ]
  },
  {
   "cell_type": "code",
   "execution_count": null,
   "id": "39b6c74b",
   "metadata": {},
   "outputs": [],
   "source": []
  }
 ],
 "metadata": {
  "kernelspec": {
   "display_name": "Python 3 (ipykernel)",
   "language": "python",
   "name": "python3"
  },
  "language_info": {
   "codemirror_mode": {
    "name": "ipython",
    "version": 3
   },
   "file_extension": ".py",
   "mimetype": "text/x-python",
   "name": "python",
   "nbconvert_exporter": "python",
   "pygments_lexer": "ipython3",
   "version": "3.9.7"
  }
 },
 "nbformat": 4,
 "nbformat_minor": 5
}
